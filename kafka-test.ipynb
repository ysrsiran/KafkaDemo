{
 "cells": [
  {
   "cell_type": "code",
   "execution_count": 45,
   "metadata": {},
   "outputs": [],
   "source": [
    "import time\n",
    "import json\n",
    "import os\n",
    "import glob\n",
    "import itertools\n",
    "from operator import itemgetter\n",
    "from kafka import KafkaProducer\n",
    "from kafka import KafkaConsumer\n",
    "from pyspark.sql.functions import *\n",
    "from pyspark.sql.types import *\n",
    "from pyspark.sql import SparkSession\n"
   ]
  },
  {
   "cell_type": "code",
   "execution_count": 46,
   "metadata": {},
   "outputs": [],
   "source": [
    "def get_files(filepath):\n",
    "    all_files = []\n",
    "    for root, dirs, files in os.walk(filepath):\n",
    "        files = glob.glob(os.path.join(root,'*.json'))\n",
    "        for f in files :\n",
    "            all_files.append(os.path.abspath(f))\n",
    "    \n",
    "    return all_files\n"
   ]
  },
  {
   "cell_type": "code",
   "execution_count": 47,
   "metadata": {},
   "outputs": [],
   "source": [
    "files = get_files('meta_data')\n",
    "producer = KafkaProducer(bootstrap_servers =\n",
    "  ['localhost:9092'],value_serializer=lambda v: json.dumps(v).encode('utf-8'))\n"
   ]
  },
  {
   "cell_type": "code",
   "execution_count": 48,
   "metadata": {},
   "outputs": [],
   "source": [
    "for file in files:\n",
    "    with open(file, 'r') as f:\n",
    "        data = json.load(f)\n",
    "        producer.send('input_topic', value = data, key =json.dumps(data['userId']).encode('utf-8'))\n"
   ]
  },
  {
   "cell_type": "code",
   "execution_count": 49,
   "metadata": {},
   "outputs": [],
   "source": [
    "consumer = KafkaConsumer ('input_topic',bootstrap_servers = ['localhost:9092'],\n",
    "value_deserializer=lambda m: json.loads(m.decode('utf-8')),consumer_timeout_ms=1000,auto_offset_reset='earliest')"
   ]
  },
  {
   "cell_type": "code",
   "execution_count": 50,
   "metadata": {},
   "outputs": [],
   "source": [
    "kafka_data =[]\n",
    "for message in consumer:\n",
    "    kafka_data.append(message.value)"
   ]
  },
  {
   "cell_type": "code",
   "execution_count": 64,
   "metadata": {},
   "outputs": [],
   "source": [
    "producer2 = KafkaProducer(bootstrap_servers =\n",
    "  ['localhost:9092'],value_serializer=lambda v: json.dumps(v).encode('utf-8'))"
   ]
  },
  {
   "cell_type": "code",
   "execution_count": 65,
   "metadata": {},
   "outputs": [],
   "source": [
    "sorted_data = sorted(kafka_data,key=itemgetter('userId'))\n",
    "\n",
    "\n",
    "for key, group in itertools.groupby(sorted_data, key=lambda x:x['userId']):\n",
    "   \n",
    "    arr = list(group)\n",
    "    big = -1\n",
    "    small = float('inf')\n",
    "    for obj in arr :\n",
    "       \n",
    "        sent_at = obj['metadata']['sentAt']\n",
    "        recive_at = obj['metadata']['receivedAt']\n",
    "        time = sent_at+recive_at\n",
    "        if time < small:\n",
    "            small = time\n",
    "        if time > big :\n",
    "            big = time\n",
    "    dict = {'userId':key,'firstSeen': small,'lastSeen':big}\n",
    "    producer2.send('output_topic', value = dict, key =json.dumps(key).encode('utf-8'))\n",
    "        "
   ]
  },
  {
   "cell_type": "code",
   "execution_count": 68,
   "metadata": {},
   "outputs": [],
   "source": [
    "consumer = KafkaConsumer ('output_topic',bootstrap_servers = ['localhost:9092'],\n",
    "value_deserializer=lambda m: json.loads(m.decode('utf-8')),consumer_timeout_ms=1000,auto_offset_reset='earliest')"
   ]
  },
  {
   "cell_type": "code",
   "execution_count": 69,
   "metadata": {},
   "outputs": [],
   "source": [
    "for message in consumer:\n",
    "    kafka_data.append(message)"
   ]
  },
  {
   "cell_type": "code",
   "execution_count": null,
   "metadata": {},
   "outputs": [],
   "source": []
  }
 ],
 "metadata": {
  "kernelspec": {
   "display_name": "Python 3",
   "language": "python",
   "name": "python3"
  },
  "language_info": {
   "codemirror_mode": {
    "name": "ipython",
    "version": 3
   },
   "file_extension": ".py",
   "mimetype": "text/x-python",
   "name": "python",
   "nbconvert_exporter": "python",
   "pygments_lexer": "ipython3",
   "version": "3.8.3"
  }
 },
 "nbformat": 4,
 "nbformat_minor": 4
}
